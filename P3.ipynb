{
 "cells": [
  {
   "cell_type": "markdown",
   "metadata": {},
   "source": [
    "# CarND-Behavioral-Cloning-P3"
   ]
  },
  {
   "cell_type": "code",
   "execution_count": null,
   "metadata": {},
   "outputs": [],
   "source": [
    "import csv\n",
    "import os\n",
    "import cv2\n",
    "import numpy as np\n",
    "import sklearn\n",
    "from sklearn.utils import shuffle\n",
    "from sklearn.model_selection import train_test_split\n",
    "import matplotlib\n",
    "import matplotlib.pyplot as plt\n",
    "\n",
    "%matplotlib inline \n",
    "\n",
    "BATCH_SIZE=128"
   ]
  },
  {
   "cell_type": "code",
   "execution_count": null,
   "metadata": {},
   "outputs": [],
   "source": [
    "SAVED_DIM_TRACKS_DIR='../saved_sim_tracks'\n",
    "\n",
    "samples=[]\n",
    "def prepare_data():\n",
    "    with open(os.path.join(SAVED_DIM_TRACKS_DIR, 'driving_log.csv')) as csvFile:\n",
    "        reader = csv.reader(csvFile)\n",
    "        for line in reader:\n",
    "            samples.append(line)\n",
    "\n",
    "prepare_data()            \n",
    "train_samples, validation_samples = train_test_split(samples, test_size=0.2)\n",
    "\n",
    "print('train_samples: ', len(train_samples))\n",
    "print('validation_samples: ', len(validation_samples))"
   ]
  },
  {
   "cell_type": "code",
   "execution_count": null,
   "metadata": {},
   "outputs": [],
   "source": [
    "def generator(samples, batch_size=32):\n",
    "    num_samples = len(samples)\n",
    "    while 1: # Loop forever so the generator never terminates\n",
    "        shuffle(samples)\n",
    "        for offset in range(0, num_samples, batch_size):\n",
    "            batch_samples = samples[offset:offset+batch_size]\n",
    "\n",
    "            images = []\n",
    "            angles = []\n",
    "            for batch_sample in batch_samples:\n",
    "                for i in range(0,3):\n",
    "                    filename = batch_sample[0].split('/')[-1]\n",
    "                    name = os.path.join(SAVED_DIM_TRACKS_DIR, 'IMG', filename)\n",
    "                    img = cv2.imread(name)\n",
    "                    angle = float(batch_sample[3])\n",
    "                    \n",
    "                    if (i==1):\n",
    "                        angle+=0.2\n",
    "                    elif (i==2):\n",
    "                        angle-=0.2\n",
    "                        \n",
    "                    images.append(img)\n",
    "                    angles.append(angle)\n",
    "                    \n",
    "                    # apply our augmentation to the original images\n",
    "                    flipped_img=cv2.flip(img,1)\n",
    "                    flipped_angle=angle*-1 \n",
    "                    images.append(flipped_img)\n",
    "                    angles.append(flipped_angle)\n",
    "\n",
    "            # trim image to only see section with road\n",
    "            X_train = np.array(images)\n",
    "            y_train = np.array(angles)\n",
    "            yield sklearn.utils.shuffle(X_train, y_train)\n",
    "\n",
    "# compile and train the model using the generator function\n",
    "train_generator = generator(train_samples, batch_size=BATCH_SIZE)\n",
    "validation_generator = generator(validation_samples, batch_size=BATCH_SIZE)"
   ]
  },
  {
   "cell_type": "markdown",
   "metadata": {},
   "source": [
    "## Models"
   ]
  },
  {
   "cell_type": "code",
   "execution_count": null,
   "metadata": {},
   "outputs": [],
   "source": [
    "#-------------------------- set gpu using tf ---------------------------\n",
    "import tensorflow as tf\n",
    "config = tf.ConfigProto()\n",
    "config.gpu_options.allow_growth = True\n",
    "session = tf.Session(config=config)\n",
    "\n",
    "#-------------------  start importing keras module ---------------------\n",
    "import keras.backend.tensorflow_backend as K\n",
    "from keras.models import Sequential\n",
    "from keras.layers import Flatten, Dense, Lambda, Cropping2D, Conv2D\n",
    "from keras.layers.pooling import MaxPooling2D\n",
    "from keras.callbacks import EarlyStopping, ModelCheckpoint\n",
    "\n",
    "K._get_available_gpus()"
   ]
  },
  {
   "cell_type": "markdown",
   "metadata": {},
   "source": [
    "### NVidia"
   ]
  },
  {
   "cell_type": "code",
   "execution_count": null,
   "metadata": {},
   "outputs": [],
   "source": [
    "model=Sequential()\n",
    "# Preprocess incoming data, centered around zero with small standard deviation \n",
    "model.add(Lambda(lambda x: x/127.5 - 1., input_shape=(160,320,3)))\n",
    "# model.add(Lambda(lambda x: x/255.0 - 0.5, input_shape=(160,320,3)))\n",
    "# crop it\n",
    "model.add(Cropping2D(cropping=((50,20),(0,0))))\n",
    "\n",
    "##### NVidia\n",
    "model.add(Conv2D(24,(5,5),strides=(2,2),activation='relu'))\n",
    "model.add(Conv2D(36,(5,5),strides=(2,2),activation='relu'))\n",
    "model.add(Conv2D(48,(5,5),strides=(2,2),activation='relu'))\n",
    "model.add(Conv2D(64,(3,3),activation='relu'))\n",
    "model.add(Conv2D(64,(3,3),activation='relu'))\n",
    "model.add(Flatten())\n",
    "model.add(Dense(100))\n",
    "model.add(Dense(50))\n",
    "model.add(Dense(10))\n",
    "model.add(Dense(1))\n",
    "\n",
    "model.summary()\n",
    "\n",
    "model.compile(loss='mse', optimizer='adam')\n",
    "#model.fit(X_train, y_train, validation_split=0.2, shuffle=True, epochs=5)\n",
    "\n",
    "save_to='model-nvidia.h5'\n",
    "\n",
    "early_stopper=EarlyStopping(patience=5, verbose=1)\n",
    "checkpointer=ModelCheckpoint(save_to, monitor='val_loss', verbose=1, save_best_only=True)\n",
    "\n",
    "history_object = model.fit_generator(generator=train_generator, \n",
    "                                     steps_per_epoch=len(train_samples) / BATCH_SIZE, \n",
    "                                     validation_data=validation_generator,\n",
    "                                     validation_steps=len(validation_samples) / BATCH_SIZE,\n",
    "                                     callbacks=[checkpointer, early_stopper],\n",
    "                                     use_multiprocessing=True,\n",
    "                                     epochs=3, \n",
    "                                     verbose=2)\n",
    "\n",
    "model.save(save_to)"
   ]
  },
  {
   "cell_type": "markdown",
   "metadata": {},
   "source": [
    "### LeNet"
   ]
  },
  {
   "cell_type": "code",
   "execution_count": null,
   "metadata": {},
   "outputs": [],
   "source": [
    "model=Sequential()\n",
    "# Preprocess incoming data, centered around zero with small standard deviation \n",
    "model.add(Lambda(lambda x: x/127.5 - 1., input_shape=(160,320,3)))\n",
    "# crop it\n",
    "model.add(Cropping2D(cropping=((50,20),(0,0))))\n",
    "\n",
    "##### LeNet\n",
    "model.add(Conv2D(10,5,padding='same',activation='relu'))\n",
    "model.add(MaxPooling2D(pool_size=(2, 2), strides=(2, 2)))\n",
    "model.add(Conv2D(50,5,padding='same',activation='relu'))\n",
    "model.add(MaxPooling2D(pool_size=(2, 2), strides=(2, 2)))\n",
    "model.add(Flatten())\n",
    "model.add(Dense(120))\n",
    "model.add(Dense(84))\n",
    "model.add(Dense(1))\n",
    "\n",
    "model.summary()\n",
    "\n",
    "model.compile(loss='mse', optimizer='adam')\n",
    "\n",
    "save_to='model-lenet.h5'\n",
    "\n",
    "early_stopper=EarlyStopping(patience=5, verbose=1)\n",
    "checkpointer=ModelCheckpoint(save_to, monitor='val_loss', verbose=1, save_best_only=True)\n",
    "\n",
    "history_object = model.fit_generator(generator=train_generator, \n",
    "                                     steps_per_epoch=len(train_samples), \n",
    "                                     validation_data=validation_generator,\n",
    "                                     validation_steps=len(validation_samples), \n",
    "                                     epochs=1, verbose=1)\n",
    "model.save(save_to)"
   ]
  },
  {
   "cell_type": "markdown",
   "metadata": {},
   "source": [
    "## View Results"
   ]
  },
  {
   "cell_type": "code",
   "execution_count": null,
   "metadata": {},
   "outputs": [],
   "source": [
    "### print the keys contained in the history object\n",
    "print(history_object.history.keys())\n",
    "\n",
    "### plot the training and validation loss for each epoch\n",
    "plt.plot(history_object.history['loss'])\n",
    "plt.plot(history_object.history['val_loss'])\n",
    "plt.title('model mean squared error loss')\n",
    "plt.ylabel('mean squared error loss')\n",
    "plt.xlabel('epoch')\n",
    "plt.legend(['training set', 'validation set'], loc='upper right')\n",
    "plt.show()"
   ]
  },
  {
   "cell_type": "code",
   "execution_count": null,
   "metadata": {},
   "outputs": [],
   "source": []
  }
 ],
 "metadata": {
  "kernelspec": {
   "display_name": "Environment (conda_tensorflow_p36)",
   "language": "python",
   "name": "conda_tensorflow_p36"
  },
  "language_info": {
   "codemirror_mode": {
    "name": "ipython",
    "version": 3
   },
   "file_extension": ".py",
   "mimetype": "text/x-python",
   "name": "python",
   "nbconvert_exporter": "python",
   "pygments_lexer": "ipython3",
   "version": "3.6.5"
  }
 },
 "nbformat": 4,
 "nbformat_minor": 2
}
